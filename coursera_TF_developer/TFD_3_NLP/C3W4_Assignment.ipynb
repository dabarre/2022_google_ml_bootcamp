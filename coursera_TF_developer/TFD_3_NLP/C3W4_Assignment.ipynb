{
 "cells": [
  {
   "cell_type": "markdown",
   "metadata": {
    "id": "bFWbEb6uGbN-"
   },
   "source": [
    "# Week 4: Predicting the next word\n",
    "\n",
    "Welcome to this assignment! During this week you saw how to create a model that will predict the next word in a text sequence, now you will implement such model and train it using a corpus of Shakespeare's sonnets, while also creating some helper functions to pre-process the data.\n",
    "\n",
    "\n",
    "Let's get started!"
   ]
  },
  {
   "cell_type": "code",
   "execution_count": 1,
   "metadata": {
    "colab": {
     "base_uri": "https://localhost:8080/"
    },
    "id": "ye9KCtcQF85b",
    "outputId": "48b45022-e3a4-4286-eeaa-cb7ff4e39969"
   },
   "outputs": [
    {
     "name": "stdout",
     "output_type": "stream",
     "text": [
      "E: dpkg was interrupted, you must manually run 'dpkg --configure -a' to correct the problem. \n"
     ]
    }
   ],
   "source": [
    "# Install this package to use Colab's GPU for training\n",
    "!apt install --allow-change-held-packages libcudnn8=8.4.1.50-1+cuda11.6"
   ]
  },
  {
   "cell_type": "code",
   "execution_count": 2,
   "metadata": {
    "id": "BOwsuGQQY9OL",
    "tags": [
     "graded"
    ]
   },
   "outputs": [],
   "source": [
    "import numpy as np \n",
    "import matplotlib.pyplot as plt\n",
    "from tensorflow.keras.models import Sequential\n",
    "from tensorflow.keras.utils import to_categorical \n",
    "from tensorflow.keras.preprocessing.text import Tokenizer\n",
    "from tensorflow.keras.preprocessing.sequence import pad_sequences\n",
    "from tensorflow.keras.layers import Embedding, LSTM, Dense, Bidirectional"
   ]
  },
  {
   "cell_type": "markdown",
   "metadata": {
    "id": "BTxqlHqKHzhr"
   },
   "source": [
    "For this assignment you will be using the [Shakespeare Sonnets Dataset](https://www.opensourceshakespeare.org/views/sonnets/sonnet_view.php?range=viewrange&sonnetrange1=1&sonnetrange2=154), which contains more than 2000 lines of text extracted from Shakespeare's sonnets."
   ]
  },
  {
   "cell_type": "code",
   "execution_count": 3,
   "metadata": {
    "colab": {
     "base_uri": "https://localhost:8080/"
    },
    "id": "WZ4qOUzujMP6",
    "outputId": "9ae52d87-dc73-4404-b38b-aa873753552b",
    "tags": [
     "graded"
    ]
   },
   "outputs": [
    {
     "name": "stdout",
     "output_type": "stream",
     "text": [
      "/usr/local/lib/python3.7/dist-packages/gdown/cli.py:131: FutureWarning: Option `--id` was deprecated in version 4.3.1 and will be removed in 5.0. You don't need to pass it anymore to use a file ID.\n",
      "  category=FutureWarning,\n",
      "Downloading...\n",
      "From: https://drive.google.com/uc?id=108jAePKK4R3BVYBbYJZ32JWUwxeMg20K\n",
      "To: /content/sonnets.txt\n",
      "100% 93.6k/93.6k [00:00<00:00, 67.6MB/s]\n"
     ]
    }
   ],
   "source": [
    "# sonnets.txt\n",
    "!gdown --id 108jAePKK4R3BVYBbYJZ32JWUwxeMg20K"
   ]
  },
  {
   "cell_type": "code",
   "execution_count": 4,
   "metadata": {
    "colab": {
     "base_uri": "https://localhost:8080/"
    },
    "id": "Pfd-nYKij5yY",
    "outputId": "40e38607-ddb1-4e9b-e221-69dfd071eaae",
    "tags": [
     "graded"
    ]
   },
   "outputs": [
    {
     "name": "stdout",
     "output_type": "stream",
     "text": [
      "There are 2159 lines of sonnets\n",
      "\n",
      "The first 5 lines look like this:\n",
      "\n",
      "from fairest creatures we desire increase,\n",
      "that thereby beauty's rose might never die,\n",
      "but as the riper should by time decease,\n",
      "his tender heir might bear his memory:\n",
      "but thou, contracted to thine own bright eyes,\n"
     ]
    }
   ],
   "source": [
    "# Define path for file with sonnets\n",
    "SONNETS_FILE = './sonnets.txt'\n",
    "\n",
    "# Read the data\n",
    "with open('./sonnets.txt') as f:\n",
    "    data = f.read()\n",
    "\n",
    "# Convert to lower case and save as a list\n",
    "corpus = data.lower().split(\"\\n\")\n",
    "\n",
    "print(f\"There are {len(corpus)} lines of sonnets\\n\")\n",
    "print(f\"The first 5 lines look like this:\\n\")\n",
    "for i in range(5):\n",
    "  print(corpus[i])"
   ]
  },
  {
   "cell_type": "markdown",
   "metadata": {
    "id": "imB15zrSNhA1"
   },
   "source": [
    "## Tokenizing the text\n",
    "\n",
    "Now fit the Tokenizer to the corpus and save the total number of words."
   ]
  },
  {
   "cell_type": "code",
   "execution_count": 5,
   "metadata": {
    "id": "AAhM_qAZk0o5",
    "tags": [
     "graded"
    ]
   },
   "outputs": [],
   "source": [
    "tokenizer = Tokenizer()\n",
    "tokenizer.fit_on_texts(corpus)\n",
    "total_words = len(tokenizer.word_index) + 1"
   ]
  },
  {
   "cell_type": "markdown",
   "metadata": {
    "id": "77-0sA46OETa"
   },
   "source": [
    "When converting the text into sequences you can use the `texts_to_sequences` method as you have done throughout this course.\n",
    "\n",
    "In the next graded function you will need to process this corpus one line at a time. Given this, it is important to keep in mind that the way you are feeding the data unto this method affects the result. Check the following example to make this clearer.\n",
    "\n",
    "The first example of the corpus is a string and looks like this:"
   ]
  },
  {
   "cell_type": "code",
   "execution_count": 6,
   "metadata": {
    "colab": {
     "base_uri": "https://localhost:8080/",
     "height": 35
    },
    "id": "tqhPxdeXlfjh",
    "outputId": "fa3aff0d-4e68-4bee-e9c1-5cc64d75d28c",
    "tags": [
     "graded"
    ]
   },
   "outputs": [
    {
     "data": {
      "application/vnd.google.colaboratory.intrinsic+json": {
       "type": "string"
      },
      "text/plain": [
       "'from fairest creatures we desire increase,'"
      ]
     },
     "execution_count": 6,
     "metadata": {},
     "output_type": "execute_result"
    }
   ],
   "source": [
    "corpus[0]"
   ]
  },
  {
   "cell_type": "markdown",
   "metadata": {
    "id": "XFMP4z11O3os"
   },
   "source": [
    "If you pass this text directly into the `texts_to_sequences` method you will get an unexpected result:"
   ]
  },
  {
   "cell_type": "code",
   "execution_count": 7,
   "metadata": {
    "colab": {
     "base_uri": "https://localhost:8080/"
    },
    "id": "EMSEhmbzNZCE",
    "outputId": "df803ba6-ed2b-4232-c271-d7a7dc579efe",
    "tags": [
     "graded"
    ]
   },
   "outputs": [
    {
     "data": {
      "text/plain": [
       "[[],\n",
       " [],\n",
       " [58],\n",
       " [],\n",
       " [],\n",
       " [],\n",
       " [17],\n",
       " [6],\n",
       " [],\n",
       " [],\n",
       " [],\n",
       " [],\n",
       " [],\n",
       " [],\n",
       " [],\n",
       " [],\n",
       " [17],\n",
       " [],\n",
       " [],\n",
       " [],\n",
       " [],\n",
       " [],\n",
       " [],\n",
       " [],\n",
       " [],\n",
       " [],\n",
       " [],\n",
       " [],\n",
       " [],\n",
       " [6],\n",
       " [],\n",
       " [],\n",
       " [],\n",
       " [6],\n",
       " [],\n",
       " [],\n",
       " [],\n",
       " [],\n",
       " [17],\n",
       " [],\n",
       " [],\n",
       " []]"
      ]
     },
     "execution_count": 7,
     "metadata": {},
     "output_type": "execute_result"
    }
   ],
   "source": [
    "tokenizer.texts_to_sequences(corpus[0])"
   ]
  },
  {
   "cell_type": "markdown",
   "metadata": {
    "id": "pPZmZtpEPEeI"
   },
   "source": [
    "This happened because `texts_to_sequences` expects a list and you are providing a string. However a string is still and `iterable` in Python so you will get the word index of every character in the string.\n",
    "\n",
    "Instead you need to place the example whithin a list before passing it to the method:"
   ]
  },
  {
   "cell_type": "code",
   "execution_count": 8,
   "metadata": {
    "colab": {
     "base_uri": "https://localhost:8080/"
    },
    "id": "Qmgo-vXhk4nd",
    "outputId": "6cf81224-ab5f-45af-fbe0-d53aa82878f8",
    "tags": [
     "graded"
    ]
   },
   "outputs": [
    {
     "data": {
      "text/plain": [
       "[[34, 417, 877, 166, 213, 517]]"
      ]
     },
     "execution_count": 8,
     "metadata": {},
     "output_type": "execute_result"
    }
   ],
   "source": [
    "tokenizer.texts_to_sequences([corpus[0]])"
   ]
  },
  {
   "cell_type": "markdown",
   "metadata": {
    "id": "0DU7wK-eQ5dc"
   },
   "source": [
    "Notice that you received the sequence wrapped inside a list so in order to get only the desired sequence you need to explicitly get the first item in the list like this:"
   ]
  },
  {
   "cell_type": "code",
   "execution_count": 9,
   "metadata": {
    "colab": {
     "base_uri": "https://localhost:8080/"
    },
    "id": "kpTy8WmIQ57P",
    "outputId": "492e61f6-6a24-4811-adb6-6f81b455ea97",
    "tags": [
     "graded"
    ]
   },
   "outputs": [
    {
     "data": {
      "text/plain": [
       "[34, 417, 877, 166, 213, 517]"
      ]
     },
     "execution_count": 9,
     "metadata": {},
     "output_type": "execute_result"
    }
   ],
   "source": [
    "tokenizer.texts_to_sequences([corpus[0]])[0]"
   ]
  },
  {
   "cell_type": "markdown",
   "metadata": {
    "id": "-oqy9KjXRJ9A"
   },
   "source": [
    "## Generating n_grams\n",
    "\n",
    "Now complete the `n_gram_seqs` function below. This function receives the fitted tokenizer and the corpus (which is a list of strings) and should return a list containing the `n_gram` sequences for each line in the corpus:"
   ]
  },
  {
   "cell_type": "code",
   "execution_count": 10,
   "metadata": {
    "id": "iy4baJMDl6kj",
    "tags": [
     "graded"
    ]
   },
   "outputs": [],
   "source": [
    "# GRADED FUNCTION: n_gram_seqs\n",
    "def n_gram_seqs(corpus, tokenizer):\n",
    "    \"\"\"\n",
    "    Generates a list of n-gram sequences\n",
    "    \n",
    "    Args:\n",
    "        corpus (list of string): lines of texts to generate n-grams for\n",
    "        tokenizer (object): an instance of the Tokenizer class containing the word-index dictionary\n",
    "    \n",
    "    Returns:\n",
    "        input_sequences (list of int): the n-gram sequences for each line in the corpus\n",
    "    \"\"\"\n",
    "    input_sequences = []\n",
    "    \n",
    "    ### START CODE HERE\n",
    "    for line in corpus:\n",
    "      token_list = tokenizer.texts_to_sequences([line])[0]\n",
    "      for i in range(1, len(token_list)):\n",
    "        n_gram_sequence = token_list[:i+1]\n",
    "        input_sequences.append(n_gram_sequence)\n",
    "    ### END CODE HERE\n",
    "    \n",
    "    return input_sequences"
   ]
  },
  {
   "cell_type": "code",
   "execution_count": 11,
   "metadata": {
    "colab": {
     "base_uri": "https://localhost:8080/"
    },
    "id": "DlKqW2pfM7G3",
    "outputId": "3f51e6b3-2b0f-4ff4-d5a5-e5a82171b3bc",
    "tags": [
     "graded"
    ]
   },
   "outputs": [
    {
     "name": "stdout",
     "output_type": "stream",
     "text": [
      "n_gram sequences for first example look like this:\n",
      "\n"
     ]
    },
    {
     "data": {
      "text/plain": [
       "[[34, 417],\n",
       " [34, 417, 877],\n",
       " [34, 417, 877, 166],\n",
       " [34, 417, 877, 166, 213],\n",
       " [34, 417, 877, 166, 213, 517]]"
      ]
     },
     "execution_count": 11,
     "metadata": {},
     "output_type": "execute_result"
    }
   ],
   "source": [
    "# Test your function with one example\n",
    "first_example_sequence = n_gram_seqs([corpus[0]], tokenizer)\n",
    "\n",
    "print(\"n_gram sequences for first example look like this:\\n\")\n",
    "first_example_sequence"
   ]
  },
  {
   "cell_type": "markdown",
   "metadata": {
    "id": "0HL8Ug6UU0Jt"
   },
   "source": [
    "**Expected Output:**\n",
    "\n",
    "```\n",
    "n_gram sequences for first example look like this:\n",
    "\n",
    "[[34, 417],\n",
    " [34, 417, 877],\n",
    " [34, 417, 877, 166],\n",
    " [34, 417, 877, 166, 213],\n",
    " [34, 417, 877, 166, 213, 517]]\n",
    "```"
   ]
  },
  {
   "cell_type": "code",
   "execution_count": 12,
   "metadata": {
    "colab": {
     "base_uri": "https://localhost:8080/"
    },
    "id": "wtPpCcBjNc4c",
    "outputId": "a9f745c8-e144-4a7c-f935-bea7f6dc785c",
    "tags": [
     "graded"
    ]
   },
   "outputs": [
    {
     "name": "stdout",
     "output_type": "stream",
     "text": [
      "n_gram sequences for next 3 examples look like this:\n",
      "\n"
     ]
    },
    {
     "data": {
      "text/plain": [
       "[[8, 878],\n",
       " [8, 878, 134],\n",
       " [8, 878, 134, 351],\n",
       " [8, 878, 134, 351, 102],\n",
       " [8, 878, 134, 351, 102, 156],\n",
       " [8, 878, 134, 351, 102, 156, 199],\n",
       " [16, 22],\n",
       " [16, 22, 2],\n",
       " [16, 22, 2, 879],\n",
       " [16, 22, 2, 879, 61],\n",
       " [16, 22, 2, 879, 61, 30],\n",
       " [16, 22, 2, 879, 61, 30, 48],\n",
       " [16, 22, 2, 879, 61, 30, 48, 634],\n",
       " [25, 311],\n",
       " [25, 311, 635],\n",
       " [25, 311, 635, 102],\n",
       " [25, 311, 635, 102, 200],\n",
       " [25, 311, 635, 102, 200, 25],\n",
       " [25, 311, 635, 102, 200, 25, 278]]"
      ]
     },
     "execution_count": 12,
     "metadata": {},
     "output_type": "execute_result"
    }
   ],
   "source": [
    "# Test your function with a bigger corpus\n",
    "next_3_examples_sequence = n_gram_seqs(corpus[1:4], tokenizer)\n",
    "\n",
    "print(\"n_gram sequences for next 3 examples look like this:\\n\")\n",
    "next_3_examples_sequence"
   ]
  },
  {
   "cell_type": "markdown",
   "metadata": {
    "id": "EIzecMczU9UB"
   },
   "source": [
    "**Expected Output:**\n",
    "\n",
    "```\n",
    "n_gram sequences for next 3 examples look like this:\n",
    "\n",
    "[[8, 878],\n",
    " [8, 878, 134],\n",
    " [8, 878, 134, 351],\n",
    " [8, 878, 134, 351, 102],\n",
    " [8, 878, 134, 351, 102, 156],\n",
    " [8, 878, 134, 351, 102, 156, 199],\n",
    " [16, 22],\n",
    " [16, 22, 2],\n",
    " [16, 22, 2, 879],\n",
    " [16, 22, 2, 879, 61],\n",
    " [16, 22, 2, 879, 61, 30],\n",
    " [16, 22, 2, 879, 61, 30, 48],\n",
    " [16, 22, 2, 879, 61, 30, 48, 634],\n",
    " [25, 311],\n",
    " [25, 311, 635],\n",
    " [25, 311, 635, 102],\n",
    " [25, 311, 635, 102, 200],\n",
    " [25, 311, 635, 102, 200, 25],\n",
    " [25, 311, 635, 102, 200, 25, 278]]\n",
    "```"
   ]
  },
  {
   "cell_type": "markdown",
   "metadata": {
    "id": "dx3V_RjFWQSu"
   },
   "source": [
    "Apply the `n_gram_seqs` transformation to the whole corpus and save the maximum sequence length to use it later:"
   ]
  },
  {
   "cell_type": "code",
   "execution_count": 13,
   "metadata": {
    "colab": {
     "base_uri": "https://localhost:8080/"
    },
    "id": "laMwiRUpmuSd",
    "outputId": "cfeac146-e0e0-4afa-9906-6c4db49becf7",
    "tags": [
     "graded"
    ]
   },
   "outputs": [
    {
     "name": "stdout",
     "output_type": "stream",
     "text": [
      "n_grams of input_sequences have length: 15462\n",
      "maximum length of sequences is: 11\n"
     ]
    }
   ],
   "source": [
    "# Apply the n_gram_seqs transformation to the whole corpus\n",
    "input_sequences = n_gram_seqs(corpus, tokenizer)\n",
    "\n",
    "# Save max length \n",
    "max_sequence_len = max([len(x) for x in input_sequences])\n",
    "\n",
    "print(f\"n_grams of input_sequences have length: {len(input_sequences)}\")\n",
    "print(f\"maximum length of sequences is: {max_sequence_len}\")"
   ]
  },
  {
   "cell_type": "markdown",
   "metadata": {
    "id": "2OciMdmEdE9L"
   },
   "source": [
    "**Expected Output:**\n",
    "\n",
    "```\n",
    "n_grams of input_sequences have length: 15462\n",
    "maximum length of sequences is: 11\n",
    "```"
   ]
  },
  {
   "cell_type": "markdown",
   "metadata": {
    "id": "zHY7HroqWq12"
   },
   "source": [
    "## Add padding to the sequences\n",
    "\n",
    "Now code the `pad_seqs` function which will pad any given sequences to the desired maximum length. Notice that this function receives a list of sequences and should return a numpy array with the padded sequences: "
   ]
  },
  {
   "cell_type": "code",
   "execution_count": 14,
   "metadata": {
    "cellView": "code",
    "id": "WW1-qAZaWOhC",
    "tags": [
     "graded"
    ]
   },
   "outputs": [],
   "source": [
    "# GRADED FUNCTION: pad_seqs\n",
    "def pad_seqs(input_sequences, maxlen):\n",
    "    \"\"\"\n",
    "    Pads tokenized sequences to the same length\n",
    "    \n",
    "    Args:\n",
    "        input_sequences (list of int): tokenized sequences to pad\n",
    "        maxlen (int): maximum length of the token sequences\n",
    "    \n",
    "    Returns:\n",
    "        padded_sequences (array of int): tokenized sequences padded to the same length\n",
    "    \"\"\"\n",
    "    ### START CODE HERE\n",
    "    padded_sequences = pad_sequences(input_sequences, maxlen=maxlen)\n",
    "    \n",
    "    return padded_sequences\n",
    "    ### END CODE HERE"
   ]
  },
  {
   "cell_type": "code",
   "execution_count": 15,
   "metadata": {
    "colab": {
     "base_uri": "https://localhost:8080/"
    },
    "id": "IqVQ0pb3YHLr",
    "outputId": "49a40928-c9fd-49ad-c965-ea571d76ef0e",
    "tags": [
     "graded"
    ]
   },
   "outputs": [
    {
     "data": {
      "text/plain": [
       "array([[  0,   0,   0,  34, 417],\n",
       "       [  0,   0,  34, 417, 877],\n",
       "       [  0,  34, 417, 877, 166],\n",
       "       [ 34, 417, 877, 166, 213],\n",
       "       [417, 877, 166, 213, 517]], dtype=int32)"
      ]
     },
     "execution_count": 15,
     "metadata": {},
     "output_type": "execute_result"
    }
   ],
   "source": [
    "# Test your function with the n_grams_seq of the first example\n",
    "first_padded_seq = pad_seqs(first_example_sequence, len(first_example_sequence))\n",
    "first_padded_seq"
   ]
  },
  {
   "cell_type": "markdown",
   "metadata": {
    "id": "Re_avDznXRnU"
   },
   "source": [
    "**Expected Output:**\n",
    "\n",
    "```\n",
    "array([[  0,   0,   0,  34, 417],\n",
    "       [  0,   0,  34, 417, 877],\n",
    "       [  0,  34, 417, 877, 166],\n",
    "       [ 34, 417, 877, 166, 213],\n",
    "       [417, 877, 166, 213, 517]], dtype=int32)\n",
    "```"
   ]
  },
  {
   "cell_type": "code",
   "execution_count": 16,
   "metadata": {
    "colab": {
     "base_uri": "https://localhost:8080/"
    },
    "id": "j56_UCOBYzZt",
    "outputId": "b06af27c-1b83-4c8c-f935-7b593190a4c9",
    "tags": [
     "graded"
    ]
   },
   "outputs": [
    {
     "data": {
      "text/plain": [
       "array([[  0,   0,   0,   0,   0,   0,   8, 878],\n",
       "       [  0,   0,   0,   0,   0,   8, 878, 134],\n",
       "       [  0,   0,   0,   0,   8, 878, 134, 351],\n",
       "       [  0,   0,   0,   8, 878, 134, 351, 102],\n",
       "       [  0,   0,   8, 878, 134, 351, 102, 156],\n",
       "       [  0,   8, 878, 134, 351, 102, 156, 199],\n",
       "       [  0,   0,   0,   0,   0,   0,  16,  22],\n",
       "       [  0,   0,   0,   0,   0,  16,  22,   2],\n",
       "       [  0,   0,   0,   0,  16,  22,   2, 879],\n",
       "       [  0,   0,   0,  16,  22,   2, 879,  61],\n",
       "       [  0,   0,  16,  22,   2, 879,  61,  30],\n",
       "       [  0,  16,  22,   2, 879,  61,  30,  48],\n",
       "       [ 16,  22,   2, 879,  61,  30,  48, 634],\n",
       "       [  0,   0,   0,   0,   0,   0,  25, 311],\n",
       "       [  0,   0,   0,   0,   0,  25, 311, 635],\n",
       "       [  0,   0,   0,   0,  25, 311, 635, 102],\n",
       "       [  0,   0,   0,  25, 311, 635, 102, 200],\n",
       "       [  0,   0,  25, 311, 635, 102, 200,  25],\n",
       "       [  0,  25, 311, 635, 102, 200,  25, 278]], dtype=int32)"
      ]
     },
     "execution_count": 16,
     "metadata": {},
     "output_type": "execute_result"
    }
   ],
   "source": [
    "# Test your function with the n_grams_seq of the next 3 examples\n",
    "next_3_padded_seq = pad_seqs(next_3_examples_sequence, max([len(s) for s in next_3_examples_sequence]))\n",
    "next_3_padded_seq"
   ]
  },
  {
   "cell_type": "markdown",
   "metadata": {
    "id": "3rmcDluOXcIU"
   },
   "source": [
    "**Expected Output:**\n",
    "\n",
    "```\n",
    "array([[  0,   0,   0,   0,   0,   0,   8, 878],\n",
    "       [  0,   0,   0,   0,   0,   8, 878, 134],\n",
    "       [  0,   0,   0,   0,   8, 878, 134, 351],\n",
    "       [  0,   0,   0,   8, 878, 134, 351, 102],\n",
    "       [  0,   0,   8, 878, 134, 351, 102, 156],\n",
    "       [  0,   8, 878, 134, 351, 102, 156, 199],\n",
    "       [  0,   0,   0,   0,   0,   0,  16,  22],\n",
    "       [  0,   0,   0,   0,   0,  16,  22,   2],\n",
    "       [  0,   0,   0,   0,  16,  22,   2, 879],\n",
    "       [  0,   0,   0,  16,  22,   2, 879,  61],\n",
    "       [  0,   0,  16,  22,   2, 879,  61,  30],\n",
    "       [  0,  16,  22,   2, 879,  61,  30,  48],\n",
    "       [ 16,  22,   2, 879,  61,  30,  48, 634],\n",
    "       [  0,   0,   0,   0,   0,   0,  25, 311],\n",
    "       [  0,   0,   0,   0,   0,  25, 311, 635],\n",
    "       [  0,   0,   0,   0,  25, 311, 635, 102],\n",
    "       [  0,   0,   0,  25, 311, 635, 102, 200],\n",
    "       [  0,   0,  25, 311, 635, 102, 200,  25],\n",
    "       [  0,  25, 311, 635, 102, 200,  25, 278]], dtype=int32)\n",
    "```"
   ]
  },
  {
   "cell_type": "code",
   "execution_count": 17,
   "metadata": {
    "colab": {
     "base_uri": "https://localhost:8080/"
    },
    "id": "rgK-Q_micEYA",
    "outputId": "8c954613-eb2e-48a3-a571-dab507dfb0cb",
    "tags": [
     "graded"
    ]
   },
   "outputs": [
    {
     "name": "stdout",
     "output_type": "stream",
     "text": [
      "padded corpus has shape: (15462, 11)\n"
     ]
    }
   ],
   "source": [
    "# Pad the whole corpus\n",
    "input_sequences = pad_seqs(input_sequences, max_sequence_len)\n",
    "\n",
    "print(f\"padded corpus has shape: {input_sequences.shape}\")"
   ]
  },
  {
   "cell_type": "markdown",
   "metadata": {
    "id": "59RD1YYNc7CW"
   },
   "source": [
    "**Expected Output:**\n",
    "\n",
    "```\n",
    "padded corpus has shape: (15462, 11)\n",
    "```"
   ]
  },
  {
   "cell_type": "markdown",
   "metadata": {
    "id": "ZbOidyPrXxf7"
   },
   "source": [
    "## Split the data into features and labels\n",
    "\n",
    "Before feeding the data into the neural network you should split it into features and labels. In this case the features will be the padded n_gram sequences with the last word removed from them and the labels will be the removed word.\n",
    "\n",
    "Complete the `features_and_labels` function below. This function expects the padded n_gram sequences as input and should return a tuple containing the features and the one hot encoded labels.\n",
    "\n",
    "Notice that the function also receives the total of words in the corpus, this parameter will be very important when one hot enconding the labels since every word in the corpus will be a label at least once. If you need a refresh of how the `to_categorical` function works take a look at the [docs](https://www.tensorflow.org/api_docs/python/tf/keras/utils/to_categorical)"
   ]
  },
  {
   "cell_type": "code",
   "execution_count": 18,
   "metadata": {
    "cellView": "code",
    "id": "9WGGbYdnZdmJ",
    "tags": [
     "graded"
    ]
   },
   "outputs": [],
   "source": [
    "# GRADED FUNCTION: features_and_labels\n",
    "def features_and_labels(input_sequences, total_words):\n",
    "    \"\"\"\n",
    "    Generates features and labels from n-grams\n",
    "    \n",
    "    Args:\n",
    "        input_sequences (list of int): sequences to split features and labels from\n",
    "        total_words (int): vocabulary size\n",
    "    \n",
    "    Returns:\n",
    "        features, one_hot_labels (array of int, array of int): arrays of features and one-hot encoded labels\n",
    "    \"\"\"\n",
    "    ### START CODE HERE\n",
    "    features = input_sequences[:, :-1]\n",
    "    labels = input_sequences[:, -1]\n",
    "    one_hot_labels = to_categorical(labels, num_classes=total_words)\n",
    "    ### END CODE HERE\n",
    "\n",
    "    return features, one_hot_labels"
   ]
  },
  {
   "cell_type": "code",
   "execution_count": 19,
   "metadata": {
    "colab": {
     "base_uri": "https://localhost:8080/"
    },
    "id": "23DolaBRaIAZ",
    "outputId": "823ba62e-3086-459c-fd0a-9f5f59048ebe",
    "tags": [
     "graded"
    ]
   },
   "outputs": [
    {
     "name": "stdout",
     "output_type": "stream",
     "text": [
      "labels have shape: (5, 3211)\n",
      "\n",
      "features look like this:\n",
      "\n"
     ]
    },
    {
     "data": {
      "text/plain": [
       "array([[  0,   0,   0,  34],\n",
       "       [  0,   0,  34, 417],\n",
       "       [  0,  34, 417, 877],\n",
       "       [ 34, 417, 877, 166],\n",
       "       [417, 877, 166, 213]], dtype=int32)"
      ]
     },
     "execution_count": 19,
     "metadata": {},
     "output_type": "execute_result"
    }
   ],
   "source": [
    "# Test your function with the padded n_grams_seq of the first example\n",
    "first_features, first_labels = features_and_labels(first_padded_seq, total_words)\n",
    "\n",
    "print(f\"labels have shape: {first_labels.shape}\")\n",
    "print(\"\\nfeatures look like this:\\n\")\n",
    "first_features"
   ]
  },
  {
   "cell_type": "markdown",
   "metadata": {
    "id": "7t4yAx2UaQ43"
   },
   "source": [
    "**Expected Output:**\n",
    "\n",
    "```\n",
    "labels have shape: (5, 3211)\n",
    "\n",
    "features look like this:\n",
    "\n",
    "array([[  0,   0,   0,  34],\n",
    "       [  0,   0,  34, 417],\n",
    "       [  0,  34, 417, 877],\n",
    "       [ 34, 417, 877, 166],\n",
    "       [417, 877, 166, 213]], dtype=int32)\n",
    "```"
   ]
  },
  {
   "cell_type": "code",
   "execution_count": 20,
   "metadata": {
    "colab": {
     "base_uri": "https://localhost:8080/"
    },
    "id": "GRTuLEt3bRKa",
    "outputId": "391b1420-c7be-4db7-e0a7-05ea9012811e",
    "tags": [
     "graded"
    ]
   },
   "outputs": [
    {
     "name": "stdout",
     "output_type": "stream",
     "text": [
      "features have shape: (15462, 10)\n",
      "labels have shape: (15462, 3211)\n"
     ]
    }
   ],
   "source": [
    "# Split the whole corpus\n",
    "features, labels = features_and_labels(input_sequences, total_words)\n",
    "\n",
    "print(f\"features have shape: {features.shape}\")\n",
    "print(f\"labels have shape: {labels.shape}\")"
   ]
  },
  {
   "cell_type": "markdown",
   "metadata": {
    "id": "xXSMK_HpdLns"
   },
   "source": [
    "**Expected Output:**\n",
    "\n",
    "```\n",
    "features have shape: (15462, 10)\n",
    "labels have shape: (15462, 3211)\n",
    "```"
   ]
  },
  {
   "cell_type": "markdown",
   "metadata": {
    "id": "ltxaOCE_aU6J"
   },
   "source": [
    "## Create the model\n",
    "\n",
    "Now you should define a model architecture capable of achieving an accuracy of at least 80%.\n",
    "\n",
    "Some hints to help you in this task:\n",
    "\n",
    "- An appropriate `output_dim` for the first layer (Embedding) is 100, this is already provided for you.\n",
    "- A Bidirectional LSTM is helpful for this particular problem.\n",
    "- The last layer should have the same number of units as the total number of words in the corpus and a softmax activation function.\n",
    "- This problem can be solved with only two layers (excluding the Embedding) so try out small architectures first."
   ]
  },
  {
   "cell_type": "code",
   "execution_count": 21,
   "metadata": {
    "cellView": "code",
    "id": "XrE6kpJFfvRY",
    "tags": [
     "graded"
    ]
   },
   "outputs": [],
   "source": [
    "# GRADED FUNCTION: create_model\n",
    "def create_model(total_words, max_sequence_len):\n",
    "    \"\"\"\n",
    "    Creates a text generator model\n",
    "    \n",
    "    Args:\n",
    "        total_words (int): size of the vocabulary for the Embedding layer input\n",
    "        max_sequence_len (int): length of the input sequences\n",
    "    \n",
    "    Returns:\n",
    "        model (tf.keras Model): the text generator model\n",
    "    \"\"\"\n",
    "    model = Sequential()\n",
    "    ### START CODE HERE\n",
    "    model.add(Embedding(total_words, 100, input_length=max_sequence_len-1))\n",
    "    model.add(Bidirectional(LSTM(units=128)))\n",
    "    model.add(Dense(units=total_words, activation='softmax'))\n",
    "\n",
    "    # Compile the model\n",
    "    model.compile(loss='categorical_crossentropy',\n",
    "                  optimizer='adam',\n",
    "                  metrics=['accuracy'])\n",
    "    \n",
    "    ### END CODE HERE\n",
    "\n",
    "    return model"
   ]
  },
  {
   "cell_type": "code",
   "execution_count": 22,
   "metadata": {
    "colab": {
     "base_uri": "https://localhost:8080/"
    },
    "id": "0IpX_Gu_gISk",
    "outputId": "6261b85c-c581-41dd-ada0-e9bb278df7bd",
    "tags": []
   },
   "outputs": [
    {
     "name": "stdout",
     "output_type": "stream",
     "text": [
      "Epoch 1/50\n",
      "484/484 [==============================] - 10s 7ms/step - loss: 6.8909 - accuracy: 0.0197\n",
      "Epoch 2/50\n",
      "484/484 [==============================] - 3s 7ms/step - loss: 6.4246 - accuracy: 0.0323\n",
      "Epoch 3/50\n",
      "484/484 [==============================] - 3s 7ms/step - loss: 6.1917 - accuracy: 0.0396\n",
      "Epoch 4/50\n",
      "484/484 [==============================] - 3s 7ms/step - loss: 5.9508 - accuracy: 0.0497\n",
      "Epoch 5/50\n",
      "484/484 [==============================] - 3s 7ms/step - loss: 5.6882 - accuracy: 0.0610\n",
      "Epoch 6/50\n",
      "484/484 [==============================] - 3s 7ms/step - loss: 5.3757 - accuracy: 0.0719\n",
      "Epoch 7/50\n",
      "484/484 [==============================] - 3s 7ms/step - loss: 5.0402 - accuracy: 0.0874\n",
      "Epoch 8/50\n",
      "484/484 [==============================] - 3s 7ms/step - loss: 4.6821 - accuracy: 0.1079\n",
      "Epoch 9/50\n",
      "484/484 [==============================] - 3s 7ms/step - loss: 4.3268 - accuracy: 0.1447\n",
      "Epoch 10/50\n",
      "484/484 [==============================] - 3s 7ms/step - loss: 3.9755 - accuracy: 0.1918\n",
      "Epoch 11/50\n",
      "484/484 [==============================] - 3s 7ms/step - loss: 3.6391 - accuracy: 0.2512\n",
      "Epoch 12/50\n",
      "484/484 [==============================] - 3s 7ms/step - loss: 3.3308 - accuracy: 0.3061\n",
      "Epoch 13/50\n",
      "484/484 [==============================] - 3s 7ms/step - loss: 3.0474 - accuracy: 0.3661\n",
      "Epoch 14/50\n",
      "484/484 [==============================] - 3s 7ms/step - loss: 2.7831 - accuracy: 0.4146\n",
      "Epoch 15/50\n",
      "484/484 [==============================] - 3s 7ms/step - loss: 2.5630 - accuracy: 0.4589\n",
      "Epoch 16/50\n",
      "484/484 [==============================] - 3s 7ms/step - loss: 2.3502 - accuracy: 0.5035\n",
      "Epoch 17/50\n",
      "484/484 [==============================] - 3s 7ms/step - loss: 2.1589 - accuracy: 0.5429\n",
      "Epoch 18/50\n",
      "484/484 [==============================] - 3s 7ms/step - loss: 1.9904 - accuracy: 0.5818\n",
      "Epoch 19/50\n",
      "484/484 [==============================] - 3s 7ms/step - loss: 1.8366 - accuracy: 0.6144\n",
      "Epoch 20/50\n",
      "484/484 [==============================] - 4s 8ms/step - loss: 1.6986 - accuracy: 0.6462\n",
      "Epoch 21/50\n",
      "484/484 [==============================] - 3s 7ms/step - loss: 1.5688 - accuracy: 0.6768\n",
      "Epoch 22/50\n",
      "484/484 [==============================] - 3s 7ms/step - loss: 1.4532 - accuracy: 0.6987\n",
      "Epoch 23/50\n",
      "484/484 [==============================] - 3s 7ms/step - loss: 1.3419 - accuracy: 0.7280\n",
      "Epoch 24/50\n",
      "484/484 [==============================] - 3s 7ms/step - loss: 1.2531 - accuracy: 0.7420\n",
      "Epoch 25/50\n",
      "484/484 [==============================] - 3s 7ms/step - loss: 1.1689 - accuracy: 0.7601\n",
      "Epoch 26/50\n",
      "484/484 [==============================] - 4s 8ms/step - loss: 1.0897 - accuracy: 0.7769\n",
      "Epoch 27/50\n",
      "484/484 [==============================] - 3s 7ms/step - loss: 1.0195 - accuracy: 0.7901\n",
      "Epoch 28/50\n",
      "484/484 [==============================] - 3s 7ms/step - loss: 0.9610 - accuracy: 0.8018\n",
      "Epoch 29/50\n",
      "484/484 [==============================] - 3s 7ms/step - loss: 0.9148 - accuracy: 0.8087\n",
      "Epoch 30/50\n",
      "484/484 [==============================] - 3s 7ms/step - loss: 0.8694 - accuracy: 0.8179\n",
      "Epoch 31/50\n",
      "484/484 [==============================] - 3s 7ms/step - loss: 0.8285 - accuracy: 0.8242\n",
      "Epoch 32/50\n",
      "484/484 [==============================] - 3s 7ms/step - loss: 0.7925 - accuracy: 0.8296\n",
      "Epoch 33/50\n",
      "484/484 [==============================] - 3s 7ms/step - loss: 0.7706 - accuracy: 0.8307\n",
      "Epoch 34/50\n",
      "484/484 [==============================] - 3s 7ms/step - loss: 0.7370 - accuracy: 0.8362\n",
      "Epoch 35/50\n",
      "484/484 [==============================] - 3s 7ms/step - loss: 0.7145 - accuracy: 0.8385\n",
      "Epoch 36/50\n",
      "484/484 [==============================] - 3s 7ms/step - loss: 0.6955 - accuracy: 0.8392\n",
      "Epoch 37/50\n",
      "484/484 [==============================] - 3s 7ms/step - loss: 0.6776 - accuracy: 0.8410\n",
      "Epoch 38/50\n",
      "484/484 [==============================] - 3s 7ms/step - loss: 0.6651 - accuracy: 0.8430\n",
      "Epoch 39/50\n",
      "484/484 [==============================] - 3s 7ms/step - loss: 0.6504 - accuracy: 0.8456\n",
      "Epoch 40/50\n",
      "484/484 [==============================] - 3s 7ms/step - loss: 0.6403 - accuracy: 0.8452\n",
      "Epoch 41/50\n",
      "484/484 [==============================] - 3s 7ms/step - loss: 0.6312 - accuracy: 0.8475\n",
      "Epoch 42/50\n",
      "484/484 [==============================] - 3s 7ms/step - loss: 0.6175 - accuracy: 0.8478\n",
      "Epoch 43/50\n",
      "484/484 [==============================] - 3s 7ms/step - loss: 0.6104 - accuracy: 0.8484\n",
      "Epoch 44/50\n",
      "484/484 [==============================] - 3s 7ms/step - loss: 0.6085 - accuracy: 0.8465\n",
      "Epoch 45/50\n",
      "484/484 [==============================] - 3s 7ms/step - loss: 0.5966 - accuracy: 0.8490\n",
      "Epoch 46/50\n",
      "484/484 [==============================] - 3s 7ms/step - loss: 0.5924 - accuracy: 0.8490\n",
      "Epoch 47/50\n",
      "484/484 [==============================] - 3s 7ms/step - loss: 0.5908 - accuracy: 0.8482\n",
      "Epoch 48/50\n",
      "484/484 [==============================] - 3s 7ms/step - loss: 0.5786 - accuracy: 0.8496\n",
      "Epoch 49/50\n",
      "484/484 [==============================] - 3s 7ms/step - loss: 0.5790 - accuracy: 0.8483\n",
      "Epoch 50/50\n",
      "484/484 [==============================] - 3s 7ms/step - loss: 0.5758 - accuracy: 0.8506\n"
     ]
    }
   ],
   "source": [
    "# Get the untrained model\n",
    "model = create_model(total_words, max_sequence_len)\n",
    "\n",
    "# Train the model\n",
    "history = model.fit(features, labels, epochs=50, verbose=1)"
   ]
  },
  {
   "cell_type": "markdown",
   "metadata": {
    "id": "gy72RPgly55q"
   },
   "source": [
    "**To pass this assignment, your model should achieve a training accuracy of at least 80%**. If your model didn't achieve this threshold, try training again with a different model architecture, consider increasing the number of unit in your `LSTM` layer."
   ]
  },
  {
   "cell_type": "code",
   "execution_count": 23,
   "metadata": {
    "colab": {
     "base_uri": "https://localhost:8080/",
     "height": 545
    },
    "id": "1fXTEO3GJ282",
    "outputId": "6fe4b22e-221e-4c64-cddd-cb6bc529369b",
    "tags": []
   },
   "outputs": [
    {
     "data": {
      "image/png": "[encoded data removed]",
      "text/plain": [
       "<Figure size 432x288 with 1 Axes>"
      ]
     },
     "metadata": {
      "needs_background": "light"
     },
     "output_type": "display_data"
    },
    {
     "data": {
      "image/png": "[encoded data removed]",
      "text/plain": [
       "<Figure size 432x288 with 1 Axes>"
      ]
     },
     "metadata": {
      "needs_background": "light"
     },
     "output_type": "display_data"
    }
   ],
   "source": [
    "# Take a look at the training curves of your model\n",
    "\n",
    "acc = history.history['accuracy']\n",
    "loss = history.history['loss']\n",
    "\n",
    "epochs = range(len(acc))\n",
    "\n",
    "plt.plot(epochs, acc, 'b', label='Training accuracy')\n",
    "plt.title('Training accuracy')\n",
    "\n",
    "plt.figure()\n",
    "\n",
    "plt.plot(epochs, loss, 'b', label='Training Loss')\n",
    "plt.title('Training loss')\n",
    "plt.legend()\n",
    "\n",
    "plt.show()"
   ]
  },
  {
   "cell_type": "markdown",
   "metadata": {
    "id": "OjvED5A3qrn2"
   },
   "source": [
    "Before closing the assignment, be sure to also download the `history.pkl` file which contains the information of the training history of your model and will be used to compute your grade. You can download this file by running the cell below:"
   ]
  },
  {
   "cell_type": "code",
   "execution_count": 24,
   "metadata": {
    "colab": {
     "base_uri": "https://localhost:8080/",
     "height": 17
    },
    "id": "9QRG73l6qE-c",
    "outputId": "38e60fd7-0cd8-4a2a-fdb6-2b89acb01ecc",
    "tags": []
   },
   "outputs": [
    {
     "data": {
      "application/javascript": [
       "\n",
       "    async function download(id, filename, size) {\n",
       "      if (!google.colab.kernel.accessAllowed) {\n",
       "        return;\n",
       "      }\n",
       "      const div = document.createElement('div');\n",
       "      const label = document.createElement('label');\n",
       "      label.textContent = `Downloading \"${filename}\": `;\n",
       "      div.appendChild(label);\n",
       "      const progress = document.createElement('progress');\n",
       "      progress.max = size;\n",
       "      div.appendChild(progress);\n",
       "      document.body.appendChild(div);\n",
       "\n",
       "      const buffers = [];\n",
       "      let downloaded = 0;\n",
       "\n",
       "      const channel = await google.colab.kernel.comms.open(id);\n",
       "      // Send a message to notify the kernel that we're ready.\n",
       "      channel.send({})\n",
       "\n",
       "      for await (const message of channel.messages) {\n",
       "        // Send a message to notify the kernel that we're ready.\n",
       "        channel.send({})\n",
       "        if (message.buffers) {\n",
       "          for (const buffer of message.buffers) {\n",
       "            buffers.push(buffer);\n",
       "            downloaded += buffer.byteLength;\n",
       "            progress.value = downloaded;\n",
       "          }\n",
       "        }\n",
       "      }\n",
       "      const blob = new Blob(buffers, {type: 'application/binary'});\n",
       "      const a = document.createElement('a');\n",
       "      a.href = window.URL.createObjectURL(blob);\n",
       "      a.download = filename;\n",
       "      div.appendChild(a);\n",
       "      a.click();\n",
       "      div.remove();\n",
       "    }\n",
       "  "
      ],
      "text/plain": [
       "<IPython.core.display.Javascript object>"
      ]
     },
     "metadata": {},
     "output_type": "display_data"
    },
    {
     "data": {
      "application/javascript": [
       "download(\"download_e5c202a9-362f-4a89-a193-0d40ace019e6\", \"history.pkl\", 944)"
      ],
      "text/plain": [
       "<IPython.core.display.Javascript object>"
      ]
     },
     "metadata": {},
     "output_type": "display_data"
    }
   ],
   "source": [
    "def download_history():\n",
    "  import pickle\n",
    "  from google.colab import files\n",
    "\n",
    "  with open('history.pkl', 'wb') as f:\n",
    "    pickle.dump(history.history, f)\n",
    "\n",
    "  files.download('history.pkl')\n",
    "\n",
    "download_history()"
   ]
  },
  {
   "cell_type": "markdown",
   "metadata": {
    "id": "wdsMszk9zBs_"
   },
   "source": [
    "## See your model in action\n",
    "\n",
    "After all your work it is finally time to see your model generating text. \n",
    "\n",
    "Run the cell below to generate the next 100 words of a seed text.\n",
    "\n",
    "After submitting your assignment you are encouraged to try out training for different amounts of epochs and seeing how this affects the coherency of the generated text. Also try changing the seed text to see what you get!"
   ]
  },
  {
   "cell_type": "code",
   "execution_count": 25,
   "metadata": {
    "colab": {
     "base_uri": "https://localhost:8080/"
    },
    "id": "6Vc6PHgxa6Hm",
    "outputId": "4f5a8961-4639-4a27-92d0-a79ade412d7c",
    "tags": []
   },
   "outputs": [
    {
     "name": "stdout",
     "output_type": "stream",
     "text": [
      "Help me Obi Wan Kenobi, you're my only hope my heart doth feast be foes a gainer dreaming to nature's taste doth stand to too treasure of thee that to die doth heart of thee alone i see thee that best of thee doth be free free away away room still modern lies had lies new had untrue in rolling date hate ' tender'd now thee have near self sun old part of the rest comes soon welcome perfumed men to such hell doth cover my bring ' to stand adonis to be removed of thee or dead doth grow mad to stand away to stand burn'd treasure zealous\n"
     ]
    }
   ],
   "source": [
    "seed_text = \"Help me Obi Wan Kenobi, you're my only hope\"\n",
    "next_words = 100\n",
    "  \n",
    "for _ in range(next_words):\n",
    "\t# Convert the text into sequences\n",
    "\ttoken_list = tokenizer.texts_to_sequences([seed_text])[0]\n",
    "\t# Pad the sequences\n",
    "\ttoken_list = pad_sequences([token_list], maxlen=max_sequence_len-1, padding='pre')\n",
    "\t# Get the probabilities of predicting a word\n",
    "\tpredicted = model.predict(token_list, verbose=0)\n",
    "\t# Choose the next word based on the maximum probability\n",
    "\tpredicted = np.argmax(predicted, axis=-1).item()\n",
    "\t# Get the actual word from the word index\n",
    "\toutput_word = tokenizer.index_word[predicted]\n",
    "\t# Append to the current text\n",
    "\tseed_text += \" \" + output_word\n",
    "\n",
    "print(seed_text)"
   ]
  },
  {
   "cell_type": "markdown",
   "metadata": {
    "id": "oQVDbdcYqSux"
   },
   "source": [
    "You will also need to submit this notebook for grading. To download it, click on the File tab in the upper left corner of the screen then click on Download -> Download .ipynb. You can name it anything you want as long as it is a valid .ipynb (jupyter notebook) file.\n",
    "\n",
    "**Congratulations on finishing this week's assignment!**\n",
    "\n",
    "You have successfully implemented a neural network capable of predicting the next word in a sequence of text!\n",
    "\n",
    "**We hope to see you in the next course of the specialization! Keep it up!**"
   ]
  }
 ],
 "metadata": {
  "accelerator": "GPU",
  "colab": {
   "provenance": []
  },
  "dlai_version": "1.2.0",
  "jupytext": {
   "main_language": "python"
  },
  "kernelspec": {
   "display_name": "Python 3 (ipykernel)",
   "language": "python",
   "name": "python3"
  },
  "language_info": {
   "codemirror_mode": {
    "name": "ipython",
    "version": 3
   },
   "file_extension": ".py",
   "mimetype": "text/x-python",
   "name": "python",
   "nbconvert_exporter": "python",
   "pygments_lexer": "ipython3",
   "version": "3.10.6"
  }
 },
 "nbformat": 4,
 "nbformat_minor": 1
}

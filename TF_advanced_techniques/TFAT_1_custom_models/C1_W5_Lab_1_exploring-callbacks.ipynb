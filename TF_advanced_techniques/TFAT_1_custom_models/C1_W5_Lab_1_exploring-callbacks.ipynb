{
 "cells": [
  {
   "cell_type": "markdown",
   "metadata": {
    "colab_type": "text",
    "id": "view-in-github"
   },
   "source": [
    "<a href=\"https://colab.research.google.com/github/https-deeplearning-ai/tensorflow-3-public/blob/main/Course%201%20-%20Custom%20Models%2C%20Layers%20and%20Loss%20Functions/Week%205%20-%20Callbacks/C1_W5_Lab_1_exploring-callbacks.ipynb\" target=\"_parent\"><img src=\"https://colab.research.google.com/assets/colab-badge.svg\" alt=\"Open In Colab\"/></a>"
   ]
  },
  {
   "cell_type": "markdown",
   "metadata": {
    "colab_type": "text",
    "id": "0c_TYhQOUe1j"
   },
   "source": [
    "# Ungraded Lab: Introduction to Keras callbacks\n",
    "\n",
    "In Keras, `Callback` is a Python class meant to be subclassed to provide specific functionality, with a set of methods called at various stages of training (including batch/epoch start and ends), testing, and predicting. Callbacks are useful to get a view on internal states and statistics of the model during training. The methods of the callbacks can  be called at different stages of training/evaluating/inference. Keras has available [callbacks](https://keras.io/api/callbacks/) and we'll show how you can use it in the following sections. Please click the **Open in Colab** badge above to complete this exercise in Colab. This will allow you to take advantage of the free GPU runtime (for faster training) and compatibility with all the packages needed in this notebook."
   ]
  },
  {
   "cell_type": "markdown",
   "metadata": {
    "colab_type": "text",
    "id": "Uyl69EyRQx-f"
   },
   "source": [
    "## Model methods that take callbacks\n",
    "Users can supply a list of callbacks to the following `tf.keras.Model` methods:\n",
    "* [`fit()`](https://www.tensorflow.org/versions/r2.0/api_docs/python/tf/keras/Model#fit), [`fit_generator()`](https://www.tensorflow.org/versions/r2.0/api_docs/python/tf/keras/Model#fit_generator)\n",
    "Trains the model for a fixed number of epochs (iterations over a dataset, or data yielded batch-by-batch by a Python generator).\n",
    "* [`evaluate()`](https://www.tensorflow.org/versions/r2.0/api_docs/python/tf/keras/Model#evaluate), [`evaluate_generator()`](https://www.tensorflow.org/versions/r2.0/api_docs/python/tf/keras/Model#evaluate_generator)\n",
    "Evaluates the model for given data or data generator. Outputs the loss and metric values from the evaluation.\n",
    "* [`predict()`](https://www.tensorflow.org/versions/r2.0/api_docs/python/tf/keras/Model#predict), [`predict_generator()`](https://www.tensorflow.org/versions/r2.0/api_docs/python/tf/keras/Model#predict_generator)\n",
    "Generates output predictions for the input data or data generator."
   ]
  },
  {
   "cell_type": "markdown",
   "metadata": {},
   "source": [
    "## Imports"
   ]
  },
  {
   "cell_type": "code",
   "execution_count": 1,
   "metadata": {
    "colab": {},
    "colab_type": "code",
    "id": "AlT1Kh3uA9lZ"
   },
   "outputs": [
    {
     "name": "stdout",
     "output_type": "stream",
     "text": [
      "Version:  2.1.0\n"
     ]
    }
   ],
   "source": [
    "from __future__ import absolute_import, division, print_function, unicode_literals\n",
    "\n",
    "try:\n",
    "    # %tensorflow_version only exists in Colab.\n",
    "    %tensorflow_version 2.x\n",
    "except Exception:\n",
    "    pass\n",
    "\n",
    "import tensorflow as tf\n",
    "import tensorflow_datasets as tfds\n",
    "import matplotlib.pyplot as plt\n",
    "import io\n",
    "from PIL import Image\n",
    "\n",
    "from tensorflow.keras.callbacks import TensorBoard, EarlyStopping, LearningRateScheduler, ModelCheckpoint, CSVLogger, ReduceLROnPlateau\n",
    "%load_ext tensorboard\n",
    "\n",
    "import os\n",
    "import matplotlib.pylab as plt\n",
    "import numpy as np\n",
    "import math\n",
    "import datetime\n",
    "import pandas as pd\n",
    "\n",
    "print(\"Version: \", tf.__version__)\n",
    "tf.get_logger().setLevel('INFO')"
   ]
  },
  {
   "cell_type": "markdown",
   "metadata": {
    "colab_type": "text",
    "id": "HnSljqtsXKfb"
   },
   "source": [
    "# Examples of Keras callback applications\n",
    "The following section will guide you through creating simple [Callback](https://keras.io/api/callbacks/) applications."
   ]
  },
  {
   "cell_type": "code",
   "execution_count": 2,
   "metadata": {
    "colab": {},
    "colab_type": "code",
    "id": "spskRuxvCYQE"
   },
   "outputs": [],
   "source": [
    "# Download and prepare the horses or humans dataset\n",
    "\n",
    "# horses_or_humans 3.0.0 has already been downloaded for you\n",
    "path = \"./tensorflow_datasets\"\n",
    "splits, info = tfds.load('horses_or_humans', data_dir=path, as_supervised=True, with_info=True, split=['train[:80%]', 'train[80%:]', 'test'])\n",
    "\n",
    "(train_examples, validation_examples, test_examples) = splits\n",
    "\n",
    "num_examples = info.splits['train'].num_examples\n",
    "num_classes = info.features['label'].num_classes"
   ]
  },
  {
   "cell_type": "code",
   "execution_count": 3,
   "metadata": {
    "colab": {},
    "colab_type": "code",
    "id": "veIsubKTCZsN"
   },
   "outputs": [],
   "source": [
    "SIZE = 150 #@param {type:\"slider\", min:64, max:300, step:1}\n",
    "IMAGE_SIZE = (SIZE, SIZE)"
   ]
  },
  {
   "cell_type": "code",
   "execution_count": 4,
   "metadata": {
    "colab": {},
    "colab_type": "code",
    "id": "faajLlErCb1S"
   },
   "outputs": [],
   "source": [
    "def format_image(image, label):\n",
    "    image = tf.image.resize(image, IMAGE_SIZE) / 255.0\n",
    "    return  image, label"
   ]
  },
  {
   "cell_type": "code",
   "execution_count": 5,
   "metadata": {
    "colab": {},
    "colab_type": "code",
    "id": "AVXPuU12Cdka"
   },
   "outputs": [],
   "source": [
    "BATCH_SIZE = 32 #@param {type:\"integer\"}"
   ]
  },
  {
   "cell_type": "code",
   "execution_count": 6,
   "metadata": {
    "colab": {},
    "colab_type": "code",
    "id": "0lHDkFVaCe48"
   },
   "outputs": [],
   "source": [
    "train_batches = train_examples.shuffle(num_examples // 4).map(format_image).batch(BATCH_SIZE).prefetch(1)\n",
    "validation_batches = validation_examples.map(format_image).batch(BATCH_SIZE).prefetch(1)\n",
    "test_batches = test_examples.map(format_image).batch(1)"
   ]
  },
  {
   "cell_type": "code",
   "execution_count": 7,
   "metadata": {
    "colab": {},
    "colab_type": "code",
    "id": "DxsCqEIkCgUt"
   },
   "outputs": [
    {
     "data": {
      "text/plain": [
       "TensorShape([32, 150, 150, 3])"
      ]
     },
     "execution_count": 7,
     "metadata": {},
     "output_type": "execute_result"
    }
   ],
   "source": [
    "for image_batch, label_batch in train_batches.take(1):\n",
    "    pass\n",
    "\n",
    "image_batch.shape"
   ]
  },
  {
   "cell_type": "code",
   "execution_count": 8,
   "metadata": {
    "colab": {},
    "colab_type": "code",
    "id": "iDBpWvHXCh2A"
   },
   "outputs": [],
   "source": [
    "def build_model(dense_units, input_shape=IMAGE_SIZE + (3,)):\n",
    "    model = tf.keras.models.Sequential([\n",
    "        tf.keras.layers.Conv2D(16, (3, 3), activation='relu', input_shape=input_shape),\n",
    "        tf.keras.layers.MaxPooling2D(2, 2),\n",
    "        tf.keras.layers.Conv2D(32, (3, 3), activation='relu'),\n",
    "        tf.keras.layers.MaxPooling2D(2, 2),\n",
    "        tf.keras.layers.Conv2D(64, (3, 3), activation='relu'),\n",
    "        tf.keras.layers.MaxPooling2D(2, 2),\n",
    "        tf.keras.layers.Flatten(),\n",
    "        tf.keras.layers.Dense(dense_units, activation='relu'),\n",
    "        tf.keras.layers.Dense(2, activation='softmax')\n",
    "    ])\n",
    "    return model"
   ]
  },
  {
   "cell_type": "markdown",
   "metadata": {
    "colab_type": "text",
    "id": "0ZKGkjagENSw"
   },
   "source": [
    "## [TensorBoard](https://keras.io/api/callbacks/tensorboard/)\n",
    "\n",
    "Enable visualizations for TensorBoard."
   ]
  },
  {
   "cell_type": "code",
   "execution_count": 9,
   "metadata": {
    "colab": {},
    "colab_type": "code",
    "id": "CeiD2WVEHbex"
   },
   "outputs": [],
   "source": [
    "!rm -rf logs"
   ]
  },
  {
   "cell_type": "code",
   "execution_count": 10,
   "metadata": {
    "colab": {},
    "colab_type": "code",
    "id": "PpLwPLnAEOzv"
   },
   "outputs": [
    {
     "name": "stdout",
     "output_type": "stream",
     "text": [
      "Epoch 1/10\n",
      "26/26 [==============================] - 22s 842ms/step - loss: 0.6754 - accuracy: 0.5864 - val_loss: 0.6564 - val_accuracy: 0.7561\n",
      "Epoch 2/10\n",
      "26/26 [==============================] - 21s 800ms/step - loss: 0.6286 - accuracy: 0.6813 - val_loss: 0.7342 - val_accuracy: 0.4780\n",
      "Epoch 3/10\n",
      "26/26 [==============================] - 21s 824ms/step - loss: 0.5960 - accuracy: 0.6825 - val_loss: 0.6331 - val_accuracy: 0.5805\n",
      "Epoch 4/10\n",
      "26/26 [==============================] - 21s 815ms/step - loss: 0.5198 - accuracy: 0.7555 - val_loss: 0.4861 - val_accuracy: 0.7366\n",
      "Epoch 5/10\n",
      "26/26 [==============================] - 21s 800ms/step - loss: 0.4831 - accuracy: 0.7676 - val_loss: 0.4703 - val_accuracy: 0.8195\n",
      "Epoch 6/10\n",
      "26/26 [==============================] - 21s 819ms/step - loss: 0.4253 - accuracy: 0.8090 - val_loss: 0.3842 - val_accuracy: 0.8244\n",
      "Epoch 7/10\n",
      "26/26 [==============================] - 23s 900ms/step - loss: 0.3731 - accuracy: 0.8370 - val_loss: 0.3319 - val_accuracy: 0.8634\n",
      "Epoch 8/10\n",
      "26/26 [==============================] - 24s 911ms/step - loss: 0.3440 - accuracy: 0.8650 - val_loss: 0.2850 - val_accuracy: 0.9073\n",
      "Epoch 9/10\n",
      "26/26 [==============================] - 24s 915ms/step - loss: 0.2931 - accuracy: 0.8990 - val_loss: 0.2917 - val_accuracy: 0.8780\n",
      "Epoch 10/10\n",
      "26/26 [==============================] - 27s 1s/step - loss: 0.2378 - accuracy: 0.9161 - val_loss: 0.1794 - val_accuracy: 0.9659\n"
     ]
    },
    {
     "data": {
      "text/plain": [
       "<tensorflow.python.keras.callbacks.History at 0x7f24260a2990>"
      ]
     },
     "execution_count": 10,
     "metadata": {},
     "output_type": "execute_result"
    }
   ],
   "source": [
    "model = build_model(dense_units=256)\n",
    "model.compile(\n",
    "    optimizer='sgd',\n",
    "    loss='sparse_categorical_crossentropy', \n",
    "    metrics=['accuracy'])\n",
    "  \n",
    "logdir = os.path.join(\"logs\", datetime.datetime.now().strftime(\"%Y%m%d-%H%M%S\"))\n",
    "tensorboard_callback = tf.keras.callbacks.TensorBoard(logdir)\n",
    "\n",
    "model.fit(train_batches, \n",
    "          epochs=10, \n",
    "          validation_data=validation_batches, \n",
    "          callbacks=[tensorboard_callback])"
   ]
  },
  {
   "cell_type": "code",
   "execution_count": 11,
   "metadata": {
    "colab": {},
    "colab_type": "code",
    "id": "iJunWOjZE0ir"
   },
   "outputs": [
    {
     "data": {
      "text/html": [
       "\n",
       "      <iframe id=\"tensorboard-frame-c5077df5173f326f\" width=\"100%\" height=\"800\" frameborder=\"0\">\n",
       "      </iframe>\n",
       "      <script>\n",
       "        (function() {\n",
       "          const frame = document.getElementById(\"tensorboard-frame-c5077df5173f326f\");\n",
       "          const url = new URL(\"/\", window.location);\n",
       "          url.port = 6006;\n",
       "          frame.src = url;\n",
       "        })();\n",
       "      </script>\n",
       "  "
      ],
      "text/plain": [
       "<IPython.core.display.HTML object>"
      ]
     },
     "metadata": {},
     "output_type": "display_data"
    }
   ],
   "source": [
    "%tensorboard --logdir logs"
   ]
  },
  {
   "cell_type": "markdown",
   "metadata": {
    "colab_type": "text",
    "id": "wv9H4Pc2Mfl7"
   },
   "source": [
    "## [Model Checkpoint](https://keras.io/api/callbacks/model_checkpoint/)\n",
    "\n",
    "Callback to save the Keras model or model weights at some frequency."
   ]
  },
  {
   "cell_type": "code",
   "execution_count": 12,
   "metadata": {
    "colab": {},
    "colab_type": "code",
    "id": "PYV4FJ8iMmDq"
   },
   "outputs": [
    {
     "name": "stdout",
     "output_type": "stream",
     "text": [
      "Epoch 1/5\n",
      "\n",
      "Epoch 00001: saving model to weights.01-0.64.h5\n",
      "26/26 - 31s - loss: 0.6678 - accuracy: 0.6314 - val_loss: 0.6424 - val_accuracy: 0.6634\n",
      "Epoch 2/5\n",
      "\n",
      "Epoch 00002: saving model to weights.02-0.60.h5\n",
      "26/26 - 24s - loss: 0.6349 - accuracy: 0.6302 - val_loss: 0.5985 - val_accuracy: 0.7073\n",
      "Epoch 3/5\n",
      "\n",
      "Epoch 00003: saving model to weights.03-0.57.h5\n",
      "26/26 - 25s - loss: 0.5872 - accuracy: 0.7056 - val_loss: 0.5707 - val_accuracy: 0.6878\n",
      "Epoch 4/5\n",
      "\n",
      "Epoch 00004: saving model to weights.04-0.47.h5\n",
      "26/26 - 24s - loss: 0.5481 - accuracy: 0.7324 - val_loss: 0.4712 - val_accuracy: 0.9024\n",
      "Epoch 5/5\n",
      "\n",
      "Epoch 00005: saving model to weights.05-0.41.h5\n",
      "26/26 - 24s - loss: 0.4643 - accuracy: 0.8187 - val_loss: 0.4114 - val_accuracy: 0.8244\n"
     ]
    },
    {
     "data": {
      "text/plain": [
       "<tensorflow.python.keras.callbacks.History at 0x7f2425f3bd10>"
      ]
     },
     "execution_count": 12,
     "metadata": {},
     "output_type": "execute_result"
    }
   ],
   "source": [
    "model = build_model(dense_units=256)\n",
    "model.compile(\n",
    "    optimizer='sgd',\n",
    "    loss='sparse_categorical_crossentropy', \n",
    "    metrics=['accuracy'])\n",
    "  \n",
    "model.fit(train_batches, \n",
    "          epochs=5, \n",
    "          validation_data=validation_batches, \n",
    "          verbose=2,\n",
    "          callbacks=[ModelCheckpoint('weights.{epoch:02d}-{val_loss:.2f}.h5', verbose=1),\n",
    "          ])"
   ]
  },
  {
   "cell_type": "code",
   "execution_count": 13,
   "metadata": {
    "colab": {},
    "colab_type": "code",
    "id": "oGvjQ8IlMmK6"
   },
   "outputs": [
    {
     "name": "stdout",
     "output_type": "stream",
     "text": [
      "\n",
      "Epoch 00001: saving model to saved_model\n",
      "WARNING:tensorflow:From /opt/conda/lib/python3.7/site-packages/tensorflow_core/python/ops/resource_variable_ops.py:1786: calling BaseResourceVariable.__init__ (from tensorflow.python.ops.resource_variable_ops) with constraint is deprecated and will be removed in a future version.\n",
      "Instructions for updating:\n",
      "If using Keras pass *_constraint arguments to layers.\n"
     ]
    },
    {
     "name": "stderr",
     "output_type": "stream",
     "text": [
      "WARNING:tensorflow:From /opt/conda/lib/python3.7/site-packages/tensorflow_core/python/ops/resource_variable_ops.py:1786: calling BaseResourceVariable.__init__ (from tensorflow.python.ops.resource_variable_ops) with constraint is deprecated and will be removed in a future version.\n",
      "Instructions for updating:\n",
      "If using Keras pass *_constraint arguments to layers.\n"
     ]
    },
    {
     "name": "stdout",
     "output_type": "stream",
     "text": [
      "INFO:tensorflow:Assets written to: saved_model/assets\n"
     ]
    },
    {
     "name": "stderr",
     "output_type": "stream",
     "text": [
      "INFO:tensorflow:Assets written to: saved_model/assets\n"
     ]
    },
    {
     "name": "stdout",
     "output_type": "stream",
     "text": [
      "26/26 - 29s - loss: 0.6744 - accuracy: 0.5414 - val_loss: 0.7102 - val_accuracy: 0.4488\n"
     ]
    },
    {
     "data": {
      "text/plain": [
       "<tensorflow.python.keras.callbacks.History at 0x7f2425e3d610>"
      ]
     },
     "execution_count": 13,
     "metadata": {},
     "output_type": "execute_result"
    }
   ],
   "source": [
    "model = build_model(dense_units=256)\n",
    "model.compile(\n",
    "    optimizer='sgd',\n",
    "    loss='sparse_categorical_crossentropy', \n",
    "    metrics=['accuracy'])\n",
    "  \n",
    "model.fit(train_batches, \n",
    "          epochs=1, \n",
    "          validation_data=validation_batches, \n",
    "          verbose=2,\n",
    "          callbacks=[ModelCheckpoint('saved_model', verbose=1)\n",
    "          ])"
   ]
  },
  {
   "cell_type": "code",
   "execution_count": 14,
   "metadata": {
    "colab": {},
    "colab_type": "code",
    "id": "Y1ConwoB0EjD"
   },
   "outputs": [
    {
     "name": "stdout",
     "output_type": "stream",
     "text": [
      "Epoch 1/2\n",
      "\n",
      "Epoch 00001: saving model to model.h5\n",
      "26/26 - 28s - loss: 0.6774 - accuracy: 0.5815 - val_loss: 0.6831 - val_accuracy: 0.4390\n",
      "Epoch 2/2\n",
      "\n",
      "Epoch 00002: saving model to model.h5\n",
      "26/26 - 22s - loss: 0.6527 - accuracy: 0.6204 - val_loss: 0.6389 - val_accuracy: 0.8390\n"
     ]
    },
    {
     "data": {
      "text/plain": [
       "<tensorflow.python.keras.callbacks.History at 0x7f24253abe10>"
      ]
     },
     "execution_count": 14,
     "metadata": {},
     "output_type": "execute_result"
    }
   ],
   "source": [
    "model = build_model(dense_units=256)\n",
    "model.compile(\n",
    "    optimizer='sgd',\n",
    "    loss='sparse_categorical_crossentropy', \n",
    "    metrics=['accuracy'])\n",
    "  \n",
    "model.fit(train_batches, \n",
    "          epochs=2, \n",
    "          validation_data=validation_batches, \n",
    "          verbose=2,\n",
    "          callbacks=[ModelCheckpoint('model.h5', verbose=1)\n",
    "          ])"
   ]
  },
  {
   "cell_type": "markdown",
   "metadata": {
    "colab_type": "text",
    "id": "kptNF0--Lznv"
   },
   "source": [
    "## [Early stopping](https://keras.io/api/callbacks/early_stopping/)\n",
    "\n",
    "Stop training when a monitored metric has stopped improving."
   ]
  },
  {
   "cell_type": "code",
   "execution_count": 15,
   "metadata": {
    "colab": {},
    "colab_type": "code",
    "id": "KJOJTJYdCkdY"
   },
   "outputs": [
    {
     "name": "stdout",
     "output_type": "stream",
     "text": [
      "Epoch 1/50\n",
      "26/26 - 22s - loss: 0.6691 - accuracy: 0.5718 - val_loss: 0.6565 - val_accuracy: 0.6927\n",
      "Epoch 2/50\n",
      "26/26 - 21s - loss: 0.6256 - accuracy: 0.7056 - val_loss: 0.6992 - val_accuracy: 0.4585\n",
      "Epoch 3/50\n",
      "26/26 - 21s - loss: 0.5844 - accuracy: 0.7251 - val_loss: 0.5743 - val_accuracy: 0.7366\n",
      "Epoch 4/50\n",
      "26/26 - 21s - loss: 0.5385 - accuracy: 0.7676 - val_loss: 0.5472 - val_accuracy: 0.7268\n",
      "Epoch 5/50\n",
      "26/26 - 21s - loss: 0.4686 - accuracy: 0.8273 - val_loss: 0.4378 - val_accuracy: 0.8683\n",
      "Epoch 6/50\n",
      "26/26 - 20s - loss: 0.4023 - accuracy: 0.8443 - val_loss: 0.3437 - val_accuracy: 0.8537\n",
      "Epoch 7/50\n",
      "26/26 - 21s - loss: 0.3637 - accuracy: 0.8650 - val_loss: 0.4418 - val_accuracy: 0.8244\n",
      "Epoch 8/50\n",
      "26/26 - 21s - loss: 0.3018 - accuracy: 0.8881 - val_loss: 0.2400 - val_accuracy: 0.9317\n",
      "Epoch 9/50\n",
      "26/26 - 21s - loss: 0.2696 - accuracy: 0.8990 - val_loss: 0.2414 - val_accuracy: 0.8732\n",
      "Epoch 10/50\n",
      "26/26 - 21s - loss: 0.1940 - accuracy: 0.9440 - val_loss: 0.1690 - val_accuracy: 0.9512\n",
      "Epoch 11/50\n",
      "26/26 - 21s - loss: 0.1742 - accuracy: 0.9440 - val_loss: 0.1679 - val_accuracy: 0.9268\n",
      "Epoch 12/50\n",
      "26/26 - 20s - loss: 0.1544 - accuracy: 0.9489 - val_loss: 0.5137 - val_accuracy: 0.7805\n",
      "Epoch 13/50\n",
      "26/26 - 20s - loss: 0.1432 - accuracy: 0.9623 - val_loss: 0.0983 - val_accuracy: 0.9707\n",
      "Epoch 14/50\n",
      "26/26 - 20s - loss: 0.0958 - accuracy: 0.9805 - val_loss: 0.1085 - val_accuracy: 0.9805\n",
      "Epoch 15/50\n",
      "26/26 - 21s - loss: 0.0903 - accuracy: 0.9793 - val_loss: 0.1499 - val_accuracy: 0.9415\n",
      "Epoch 16/50\n",
      "Restoring model weights from the end of the best epoch.\n",
      "26/26 - 20s - loss: 0.0727 - accuracy: 0.9854 - val_loss: 0.0667 - val_accuracy: 0.9902\n",
      "Epoch 00016: early stopping\n"
     ]
    },
    {
     "data": {
      "text/plain": [
       "<tensorflow.python.keras.callbacks.History at 0x7f242532fe90>"
      ]
     },
     "execution_count": 15,
     "metadata": {},
     "output_type": "execute_result"
    }
   ],
   "source": [
    "model = build_model(dense_units=256)\n",
    "model.compile(\n",
    "    optimizer='sgd',\n",
    "    loss='sparse_categorical_crossentropy', \n",
    "    metrics=['accuracy'])\n",
    "  \n",
    "model.fit(train_batches, \n",
    "          epochs=50, \n",
    "          validation_data=validation_batches, \n",
    "          verbose=2,\n",
    "          callbacks=[EarlyStopping(\n",
    "              patience=3,\n",
    "              min_delta=0.05,\n",
    "              baseline=0.8,\n",
    "              mode='min',\n",
    "              monitor='val_loss',\n",
    "              restore_best_weights=True,\n",
    "              verbose=1)\n",
    "          ])"
   ]
  },
  {
   "cell_type": "markdown",
   "metadata": {
    "colab_type": "text",
    "id": "8mDzWUD4Pqq5"
   },
   "source": [
    "## [CSV Logger](https://keras.io/api/callbacks/csv_logger/)\n",
    "\n",
    "Callback that streams epoch results to a CSV file."
   ]
  },
  {
   "cell_type": "code",
   "execution_count": 16,
   "metadata": {
    "colab": {},
    "colab_type": "code",
    "id": "cffnMpmGPtMh"
   },
   "outputs": [
    {
     "name": "stdout",
     "output_type": "stream",
     "text": [
      "Epoch 1/5\n",
      "26/26 [==============================] - 20s 787ms/step - loss: 0.6679 - accuracy: 0.5949 - val_loss: 0.6304 - val_accuracy: 0.7659\n",
      "Epoch 2/5\n",
      "26/26 [==============================] - 21s 804ms/step - loss: 0.5986 - accuracy: 0.7202 - val_loss: 0.5826 - val_accuracy: 0.7561\n",
      "Epoch 3/5\n",
      "26/26 [==============================] - 20s 776ms/step - loss: 0.5680 - accuracy: 0.7433 - val_loss: 0.6330 - val_accuracy: 0.5805\n",
      "Epoch 4/5\n",
      "26/26 [==============================] - 20s 770ms/step - loss: 0.5253 - accuracy: 0.7482 - val_loss: 0.4741 - val_accuracy: 0.8439\n",
      "Epoch 5/5\n",
      "26/26 [==============================] - 21s 791ms/step - loss: 0.4548 - accuracy: 0.8054 - val_loss: 0.5334 - val_accuracy: 0.6927\n"
     ]
    },
    {
     "data": {
      "text/plain": [
       "<tensorflow.python.keras.callbacks.History at 0x7f2425cf7590>"
      ]
     },
     "execution_count": 16,
     "metadata": {},
     "output_type": "execute_result"
    }
   ],
   "source": [
    "model = build_model(dense_units=256)\n",
    "model.compile(\n",
    "    optimizer='sgd',\n",
    "    loss='sparse_categorical_crossentropy', \n",
    "    metrics=['accuracy'])\n",
    "  \n",
    "csv_file = 'training.csv'\n",
    "\n",
    "model.fit(train_batches, \n",
    "          epochs=5, \n",
    "          validation_data=validation_batches, \n",
    "          callbacks=[CSVLogger(csv_file)\n",
    "          ])"
   ]
  },
  {
   "cell_type": "code",
   "execution_count": 17,
   "metadata": {
    "colab": {},
    "colab_type": "code",
    "id": "B9tkYi03QV7R"
   },
   "outputs": [
    {
     "data": {
      "text/html": [
       "<div>\n",
       "<style scoped>\n",
       "    .dataframe tbody tr th:only-of-type {\n",
       "        vertical-align: middle;\n",
       "    }\n",
       "\n",
       "    .dataframe tbody tr th {\n",
       "        vertical-align: top;\n",
       "    }\n",
       "\n",
       "    .dataframe thead th {\n",
       "        text-align: right;\n",
       "    }\n",
       "</style>\n",
       "<table border=\"1\" class=\"dataframe\">\n",
       "  <thead>\n",
       "    <tr style=\"text-align: right;\">\n",
       "      <th></th>\n",
       "      <th>epoch</th>\n",
       "      <th>accuracy</th>\n",
       "      <th>loss</th>\n",
       "      <th>val_accuracy</th>\n",
       "      <th>val_loss</th>\n",
       "    </tr>\n",
       "  </thead>\n",
       "  <tbody>\n",
       "    <tr>\n",
       "      <th>0</th>\n",
       "      <td>0</td>\n",
       "      <td>0.594891</td>\n",
       "      <td>0.668350</td>\n",
       "      <td>0.765854</td>\n",
       "      <td>0.630392</td>\n",
       "    </tr>\n",
       "    <tr>\n",
       "      <th>1</th>\n",
       "      <td>1</td>\n",
       "      <td>0.720195</td>\n",
       "      <td>0.599174</td>\n",
       "      <td>0.756098</td>\n",
       "      <td>0.582553</td>\n",
       "    </tr>\n",
       "    <tr>\n",
       "      <th>2</th>\n",
       "      <td>2</td>\n",
       "      <td>0.743309</td>\n",
       "      <td>0.567936</td>\n",
       "      <td>0.580488</td>\n",
       "      <td>0.633031</td>\n",
       "    </tr>\n",
       "    <tr>\n",
       "      <th>3</th>\n",
       "      <td>3</td>\n",
       "      <td>0.748175</td>\n",
       "      <td>0.526428</td>\n",
       "      <td>0.843902</td>\n",
       "      <td>0.474112</td>\n",
       "    </tr>\n",
       "    <tr>\n",
       "      <th>4</th>\n",
       "      <td>4</td>\n",
       "      <td>0.805353</td>\n",
       "      <td>0.451195</td>\n",
       "      <td>0.692683</td>\n",
       "      <td>0.533446</td>\n",
       "    </tr>\n",
       "  </tbody>\n",
       "</table>\n",
       "</div>"
      ],
      "text/plain": [
       "   epoch  accuracy      loss  val_accuracy  val_loss\n",
       "0      0  0.594891  0.668350      0.765854  0.630392\n",
       "1      1  0.720195  0.599174      0.756098  0.582553\n",
       "2      2  0.743309  0.567936      0.580488  0.633031\n",
       "3      3  0.748175  0.526428      0.843902  0.474112\n",
       "4      4  0.805353  0.451195      0.692683  0.533446"
      ]
     },
     "execution_count": 17,
     "metadata": {},
     "output_type": "execute_result"
    }
   ],
   "source": [
    "pd.read_csv(csv_file).head()"
   ]
  },
  {
   "cell_type": "markdown",
   "metadata": {
    "colab_type": "text",
    "id": "Dt9C2Y9fRBKN"
   },
   "source": [
    "## [Learning Rate Scheduler](https://keras.io/api/callbacks/learning_rate_scheduler/)\n",
    "\n",
    "Updates the learning rate during training."
   ]
  },
  {
   "cell_type": "code",
   "execution_count": 18,
   "metadata": {
    "colab": {},
    "colab_type": "code",
    "id": "aJi-xY2VRC03"
   },
   "outputs": [
    {
     "name": "stdout",
     "output_type": "stream",
     "text": [
      "\n",
      "Epoch 00001: LearningRateScheduler reducing learning rate to 0.005.\n",
      "Epoch 1/5\n",
      "26/26 [==============================] - 33s 1s/step - loss: 0.6713 - accuracy: 0.5766 - val_loss: 0.6859 - val_accuracy: 0.4488\n",
      "\n",
      "Epoch 00002: LearningRateScheduler reducing learning rate to 0.0025.\n",
      "Epoch 2/5\n",
      "26/26 [==============================] - 20s 772ms/step - loss: 0.6412 - accuracy: 0.6752 - val_loss: 0.6644 - val_accuracy: 0.5317\n",
      "\n",
      "Epoch 00003: LearningRateScheduler reducing learning rate to 0.00125.\n",
      "Epoch 3/5\n",
      "26/26 [==============================] - 20s 773ms/step - loss: 0.6244 - accuracy: 0.7190 - val_loss: 0.6442 - val_accuracy: 0.5902\n",
      "\n",
      "Epoch 00004: LearningRateScheduler reducing learning rate to 0.000625.\n",
      "Epoch 4/5\n",
      "26/26 [==============================] - 20s 762ms/step - loss: 0.6156 - accuracy: 0.7433 - val_loss: 0.6333 - val_accuracy: 0.6780\n",
      "\n",
      "Epoch 00005: LearningRateScheduler reducing learning rate to 0.0003125.\n",
      "Epoch 5/5\n",
      "26/26 [==============================] - 20s 781ms/step - loss: 0.6108 - accuracy: 0.7689 - val_loss: 0.6324 - val_accuracy: 0.6683\n"
     ]
    },
    {
     "data": {
      "text/plain": [
       "<tensorflow.python.keras.callbacks.History at 0x7f2425b9dd10>"
      ]
     },
     "execution_count": 18,
     "metadata": {},
     "output_type": "execute_result"
    }
   ],
   "source": [
    "model = build_model(dense_units=256)\n",
    "model.compile(\n",
    "    optimizer='sgd',\n",
    "    loss='sparse_categorical_crossentropy', \n",
    "    metrics=['accuracy'])\n",
    "  \n",
    "def step_decay(epoch):\n",
    "    initial_lr = 0.01\n",
    "    drop = 0.5\n",
    "    epochs_drop = 1\n",
    "    lr = initial_lr * math.pow(drop, math.floor((1+epoch)/epochs_drop))\n",
    "    return lr\n",
    "\n",
    "model.fit(train_batches, \n",
    "          epochs=5, \n",
    "          validation_data=validation_batches, \n",
    "          callbacks=[LearningRateScheduler(step_decay, verbose=1),\n",
    "                    TensorBoard(log_dir='./log_dir')])"
   ]
  },
  {
   "cell_type": "code",
   "execution_count": 19,
   "metadata": {
    "colab": {},
    "colab_type": "code",
    "id": "M2S4n8nrbV91"
   },
   "outputs": [
    {
     "data": {
      "text/html": [
       "\n",
       "      <iframe id=\"tensorboard-frame-2b3e93c22f629b3a\" width=\"100%\" height=\"800\" frameborder=\"0\">\n",
       "      </iframe>\n",
       "      <script>\n",
       "        (function() {\n",
       "          const frame = document.getElementById(\"tensorboard-frame-2b3e93c22f629b3a\");\n",
       "          const url = new URL(\"/\", window.location);\n",
       "          url.port = 6007;\n",
       "          frame.src = url;\n",
       "        })();\n",
       "      </script>\n",
       "  "
      ],
      "text/plain": [
       "<IPython.core.display.HTML object>"
      ]
     },
     "metadata": {},
     "output_type": "display_data"
    }
   ],
   "source": [
    "%tensorboard --logdir log_dir"
   ]
  },
  {
   "cell_type": "markdown",
   "metadata": {
    "colab_type": "text",
    "id": "y0wcuQyJE_UK"
   },
   "source": [
    "## [ReduceLROnPlateau](https://keras.io/api/callbacks/reduce_lr_on_plateau/)\n",
    "\n",
    "Reduce learning rate when a metric has stopped improving."
   ]
  },
  {
   "cell_type": "code",
   "execution_count": 20,
   "metadata": {
    "colab": {},
    "colab_type": "code",
    "id": "4naxZ-eCFB27"
   },
   "outputs": [
    {
     "name": "stdout",
     "output_type": "stream",
     "text": [
      "Epoch 1/50\n",
      "26/26 [==============================] - 22s 841ms/step - loss: 0.6734 - accuracy: 0.5730 - val_loss: 0.6466 - val_accuracy: 0.7707\n",
      "Epoch 2/50\n",
      "26/26 [==============================] - 21s 800ms/step - loss: 0.6284 - accuracy: 0.6569 - val_loss: 0.6099 - val_accuracy: 0.6829\n",
      "Epoch 3/50\n",
      "26/26 [==============================] - 20s 777ms/step - loss: 0.5539 - accuracy: 0.7360 - val_loss: 0.5332 - val_accuracy: 0.8146\n",
      "Epoch 4/50\n",
      "26/26 [==============================] - 21s 801ms/step - loss: 0.4785 - accuracy: 0.8078 - val_loss: 0.4629 - val_accuracy: 0.8439\n",
      "Epoch 5/50\n",
      "26/26 [==============================] - 20s 773ms/step - loss: 0.4387 - accuracy: 0.8187 - val_loss: 0.4087 - val_accuracy: 0.8488\n",
      "Epoch 6/50\n",
      "25/26 [===========================>..] - ETA: 0s - loss: 0.3688 - accuracy: 0.8662\n",
      "Epoch 00006: ReduceLROnPlateau reducing learning rate to 0.0019999999552965165.\n",
      "26/26 [==============================] - 20s 774ms/step - loss: 0.3700 - accuracy: 0.8650 - val_loss: 0.6388 - val_accuracy: 0.6098\n",
      "Epoch 7/50\n",
      "26/26 [==============================] - 20s 769ms/step - loss: 0.3205 - accuracy: 0.9015 - val_loss: 0.3261 - val_accuracy: 0.8927\n",
      "Epoch 8/50\n",
      "26/26 [==============================] - 21s 792ms/step - loss: 0.2826 - accuracy: 0.9294 - val_loss: 0.2912 - val_accuracy: 0.9024\n",
      "Epoch 9/50\n",
      "26/26 [==============================] - 20s 775ms/step - loss: 0.2692 - accuracy: 0.9367 - val_loss: 0.2663 - val_accuracy: 0.9220\n",
      "Epoch 10/50\n",
      "26/26 [==============================] - 20s 779ms/step - loss: 0.2552 - accuracy: 0.9428 - val_loss: 0.2488 - val_accuracy: 0.9415\n",
      "Epoch 11/50\n",
      "26/26 [==============================] - 20s 788ms/step - loss: 0.2406 - accuracy: 0.9477 - val_loss: 0.2393 - val_accuracy: 0.9366\n",
      "Epoch 12/50\n",
      "26/26 [==============================] - 20s 773ms/step - loss: 0.2296 - accuracy: 0.9453 - val_loss: 0.2193 - val_accuracy: 0.9512\n",
      "Epoch 13/50\n",
      "26/26 [==============================] - 20s 765ms/step - loss: 0.2169 - accuracy: 0.9550 - val_loss: 0.2082 - val_accuracy: 0.9512\n",
      "Epoch 14/50\n",
      "25/26 [===========================>..] - ETA: 0s - loss: 0.2046 - accuracy: 0.9588\n",
      "Epoch 00014: ReduceLROnPlateau reducing learning rate to 0.001.\n",
      "26/26 [==============================] - 20s 766ms/step - loss: 0.2063 - accuracy: 0.9586 - val_loss: 0.2124 - val_accuracy: 0.9415\n",
      "Epoch 15/50\n",
      "26/26 [==============================] - 20s 781ms/step - loss: 0.1947 - accuracy: 0.9599 - val_loss: 0.1874 - val_accuracy: 0.9561\n",
      "Epoch 16/50\n",
      "26/26 [==============================] - 20s 780ms/step - loss: 0.1907 - accuracy: 0.9623 - val_loss: 0.1866 - val_accuracy: 0.9561\n",
      "Epoch 17/50\n",
      "26/26 [==============================] - 20s 781ms/step - loss: 0.1840 - accuracy: 0.9623 - val_loss: 0.1767 - val_accuracy: 0.9610\n",
      "Epoch 18/50\n",
      "25/26 [===========================>..] - ETA: 0s - loss: 0.1796 - accuracy: 0.9663\n",
      "Epoch 00018: ReduceLROnPlateau reducing learning rate to 0.001.\n",
      "26/26 [==============================] - 21s 800ms/step - loss: 0.1793 - accuracy: 0.9659 - val_loss: 0.1817 - val_accuracy: 0.9561\n",
      "Epoch 19/50\n",
      "26/26 [==============================] - 21s 796ms/step - loss: 0.1747 - accuracy: 0.9623 - val_loss: 0.1748 - val_accuracy: 0.9561\n",
      "Epoch 20/50\n",
      "26/26 [==============================] - 21s 789ms/step - loss: 0.1699 - accuracy: 0.9623 - val_loss: 0.1706 - val_accuracy: 0.9561\n",
      "Epoch 21/50\n",
      "26/26 [==============================] - 20s 773ms/step - loss: 0.1671 - accuracy: 0.9659 - val_loss: 0.1623 - val_accuracy: 0.9610\n",
      "Epoch 22/50\n",
      "26/26 [==============================] - 20s 788ms/step - loss: 0.1636 - accuracy: 0.9672 - val_loss: 0.1567 - val_accuracy: 0.9610\n",
      "Epoch 23/50\n",
      "26/26 [==============================] - 20s 784ms/step - loss: 0.1570 - accuracy: 0.9720 - val_loss: 0.1495 - val_accuracy: 0.9805\n",
      "Epoch 24/50\n",
      "25/26 [===========================>..] - ETA: 0s - loss: 0.1536 - accuracy: 0.9712\n",
      "Epoch 00024: ReduceLROnPlateau reducing learning rate to 0.001.\n",
      "26/26 [==============================] - 20s 777ms/step - loss: 0.1526 - accuracy: 0.9720 - val_loss: 0.1576 - val_accuracy: 0.9561\n",
      "Epoch 25/50\n",
      "25/26 [===========================>..] - ETA: 0s - loss: 0.1502 - accuracy: 0.9700\n",
      "Epoch 00025: ReduceLROnPlateau reducing learning rate to 0.001.\n",
      "26/26 [==============================] - 21s 796ms/step - loss: 0.1493 - accuracy: 0.9708 - val_loss: 0.1504 - val_accuracy: 0.9610\n",
      "Epoch 26/50\n",
      "26/26 [==============================] - 20s 761ms/step - loss: 0.1467 - accuracy: 0.9745 - val_loss: 0.1461 - val_accuracy: 0.9610\n",
      "Epoch 27/50\n",
      "25/26 [===========================>..] - ETA: 0s - loss: 0.1422 - accuracy: 0.9700\n",
      "Epoch 00027: ReduceLROnPlateau reducing learning rate to 0.001.\n",
      "26/26 [==============================] - 20s 758ms/step - loss: 0.1403 - accuracy: 0.9708 - val_loss: 0.1483 - val_accuracy: 0.9561\n",
      "Epoch 28/50\n",
      "26/26 [==============================] - 20s 761ms/step - loss: 0.1378 - accuracy: 0.9769 - val_loss: 0.1395 - val_accuracy: 0.9659\n",
      "Epoch 29/50\n",
      "25/26 [===========================>..] - ETA: 0s - loss: 0.1345 - accuracy: 0.9750\n",
      "Epoch 00029: ReduceLROnPlateau reducing learning rate to 0.001.\n",
      "26/26 [==============================] - 20s 754ms/step - loss: 0.1346 - accuracy: 0.9757 - val_loss: 0.1403 - val_accuracy: 0.9610\n",
      "Epoch 30/50\n",
      "26/26 [==============================] - 20s 750ms/step - loss: 0.1328 - accuracy: 0.9745 - val_loss: 0.1297 - val_accuracy: 0.9707\n",
      "Epoch 31/50\n",
      "26/26 [==============================] - 20s 761ms/step - loss: 0.1297 - accuracy: 0.9793 - val_loss: 0.1237 - val_accuracy: 0.9854\n",
      "Epoch 32/50\n",
      "25/26 [===========================>..] - ETA: 0s - loss: 0.1267 - accuracy: 0.9800\n",
      "Epoch 00032: ReduceLROnPlateau reducing learning rate to 0.001.\n",
      "26/26 [==============================] - 20s 758ms/step - loss: 0.1264 - accuracy: 0.9805 - val_loss: 0.1247 - val_accuracy: 0.9707\n",
      "Epoch 33/50\n",
      "25/26 [===========================>..] - ETA: 0s - loss: 0.1224 - accuracy: 0.9800\n",
      "Epoch 00033: ReduceLROnPlateau reducing learning rate to 0.001.\n",
      "26/26 [==============================] - 20s 753ms/step - loss: 0.1224 - accuracy: 0.9805 - val_loss: 0.1240 - val_accuracy: 0.9659\n",
      "Epoch 34/50\n",
      "26/26 [==============================] - 20s 765ms/step - loss: 0.1198 - accuracy: 0.9793 - val_loss: 0.1220 - val_accuracy: 0.9659\n",
      "Epoch 35/50\n",
      "26/26 [==============================] - 20s 766ms/step - loss: 0.1176 - accuracy: 0.9805 - val_loss: 0.1125 - val_accuracy: 0.9854\n",
      "Epoch 36/50\n",
      "25/26 [===========================>..] - ETA: 0s - loss: 0.1147 - accuracy: 0.9812\n",
      "Epoch 00036: ReduceLROnPlateau reducing learning rate to 0.001.\n",
      "26/26 [==============================] - 20s 765ms/step - loss: 0.1144 - accuracy: 0.9818 - val_loss: 0.1137 - val_accuracy: 0.9805\n",
      "Epoch 37/50\n",
      "26/26 [==============================] - 20s 754ms/step - loss: 0.1104 - accuracy: 0.9805 - val_loss: 0.1082 - val_accuracy: 0.9854\n",
      "Epoch 38/50\n",
      "25/26 [===========================>..] - ETA: 0s - loss: 0.1070 - accuracy: 0.9825\n",
      "Epoch 00038: ReduceLROnPlateau reducing learning rate to 0.001.\n",
      "26/26 [==============================] - 20s 762ms/step - loss: 0.1098 - accuracy: 0.9818 - val_loss: 0.1084 - val_accuracy: 0.9854\n",
      "Epoch 39/50\n",
      "26/26 [==============================] - 20s 780ms/step - loss: 0.1053 - accuracy: 0.9818 - val_loss: 0.1050 - val_accuracy: 0.9854\n",
      "Epoch 40/50\n",
      "26/26 [==============================] - 20s 754ms/step - loss: 0.1044 - accuracy: 0.9818 - val_loss: 0.1035 - val_accuracy: 0.9854\n",
      "Epoch 41/50\n",
      "26/26 [==============================] - 20s 757ms/step - loss: 0.1026 - accuracy: 0.9818 - val_loss: 0.1010 - val_accuracy: 0.9854\n",
      "Epoch 42/50\n",
      "25/26 [===========================>..] - ETA: 0s - loss: 0.0997 - accuracy: 0.9825\n",
      "Epoch 00042: ReduceLROnPlateau reducing learning rate to 0.001.\n",
      "26/26 [==============================] - 20s 758ms/step - loss: 0.0997 - accuracy: 0.9818 - val_loss: 0.1016 - val_accuracy: 0.9854\n",
      "Epoch 43/50\n",
      "25/26 [===========================>..] - ETA: 0s - loss: 0.0983 - accuracy: 0.9800\n",
      "Epoch 00043: ReduceLROnPlateau reducing learning rate to 0.001.\n",
      "26/26 [==============================] - 20s 773ms/step - loss: 0.0984 - accuracy: 0.9793 - val_loss: 0.1011 - val_accuracy: 0.9854\n",
      "Epoch 44/50\n",
      "25/26 [===========================>..] - ETA: 0s - loss: 0.0962 - accuracy: 0.9837\n",
      "Epoch 00044: ReduceLROnPlateau reducing learning rate to 0.001.\n",
      "26/26 [==============================] - 20s 767ms/step - loss: 0.0959 - accuracy: 0.9842 - val_loss: 0.1028 - val_accuracy: 0.9805\n",
      "Epoch 45/50\n",
      "26/26 [==============================] - 20s 756ms/step - loss: 0.0937 - accuracy: 0.9830 - val_loss: 0.0937 - val_accuracy: 0.9854\n",
      "Epoch 46/50\n",
      "26/26 [==============================] - 20s 773ms/step - loss: 0.0923 - accuracy: 0.9830 - val_loss: 0.0925 - val_accuracy: 0.9854\n",
      "Epoch 47/50\n",
      "25/26 [===========================>..] - ETA: 0s - loss: 0.0907 - accuracy: 0.9837\n",
      "Epoch 00047: ReduceLROnPlateau reducing learning rate to 0.001.\n",
      "26/26 [==============================] - 20s 761ms/step - loss: 0.0903 - accuracy: 0.9842 - val_loss: 0.0937 - val_accuracy: 0.9854\n",
      "Epoch 48/50\n",
      "25/26 [===========================>..] - ETA: 0s - loss: 0.0870 - accuracy: 0.9837\n",
      "Epoch 00048: ReduceLROnPlateau reducing learning rate to 0.001.\n",
      "26/26 [==============================] - 20s 764ms/step - loss: 0.0884 - accuracy: 0.9830 - val_loss: 0.1006 - val_accuracy: 0.9707\n",
      "Epoch 49/50\n",
      "26/26 [==============================] - 20s 759ms/step - loss: 0.0876 - accuracy: 0.9842 - val_loss: 0.0899 - val_accuracy: 0.9854\n",
      "Epoch 50/50\n",
      "25/26 [===========================>..] - ETA: 0s - loss: 0.0835 - accuracy: 0.9850\n",
      "Epoch 00050: ReduceLROnPlateau reducing learning rate to 0.001.\n",
      "26/26 [==============================] - 20s 773ms/step - loss: 0.0855 - accuracy: 0.9842 - val_loss: 0.0928 - val_accuracy: 0.9854\n"
     ]
    },
    {
     "data": {
      "text/plain": [
       "<tensorflow.python.keras.callbacks.History at 0x7f2425a98890>"
      ]
     },
     "execution_count": 20,
     "metadata": {},
     "output_type": "execute_result"
    }
   ],
   "source": [
    "model = build_model(dense_units=256)\n",
    "model.compile(\n",
    "    optimizer='sgd',\n",
    "    loss='sparse_categorical_crossentropy', \n",
    "    metrics=['accuracy'])\n",
    "  \n",
    "model.fit(train_batches, \n",
    "          epochs=50, \n",
    "          validation_data=validation_batches, \n",
    "          callbacks=[ReduceLROnPlateau(monitor='val_loss', \n",
    "                                       factor=0.2, verbose=1,\n",
    "                                       patience=1, min_lr=0.001),\n",
    "                     TensorBoard(log_dir='./log_dir')])"
   ]
  },
  {
   "cell_type": "code",
   "execution_count": 21,
   "metadata": {
    "colab": {},
    "colab_type": "code",
    "id": "isfTWP4NYudk"
   },
   "outputs": [
    {
     "data": {
      "text/plain": [
       "Reusing TensorBoard on port 6007 (pid 4719), started 0:16:47 ago. (Use '!kill 4719' to kill it.)"
      ]
     },
     "metadata": {},
     "output_type": "display_data"
    },
    {
     "data": {
      "text/html": [
       "\n",
       "      <iframe id=\"tensorboard-frame-5ff53553903a6bfe\" width=\"100%\" height=\"800\" frameborder=\"0\">\n",
       "      </iframe>\n",
       "      <script>\n",
       "        (function() {\n",
       "          const frame = document.getElementById(\"tensorboard-frame-5ff53553903a6bfe\");\n",
       "          const url = new URL(\"/\", window.location);\n",
       "          url.port = 6007;\n",
       "          frame.src = url;\n",
       "        })();\n",
       "      </script>\n",
       "  "
      ],
      "text/plain": [
       "<IPython.core.display.HTML object>"
      ]
     },
     "metadata": {},
     "output_type": "display_data"
    }
   ],
   "source": [
    "%tensorboard --logdir log_dir"
   ]
  }
 ],
 "metadata": {
  "colab": {
   "collapsed_sections": [],
   "include_colab_link": true,
   "name": "ExploringCallbacks.ipynb",
   "provenance": []
  },
  "kernelspec": {
   "display_name": "Python 3",
   "language": "python",
   "name": "python3"
  },
  "language_info": {
   "codemirror_mode": {
    "name": "ipython",
    "version": 3
   },
   "file_extension": ".py",
   "mimetype": "text/x-python",
   "name": "python",
   "nbconvert_exporter": "python",
   "pygments_lexer": "ipython3",
   "version": "3.7.6"
  }
 },
 "nbformat": 4,
 "nbformat_minor": 4
}
